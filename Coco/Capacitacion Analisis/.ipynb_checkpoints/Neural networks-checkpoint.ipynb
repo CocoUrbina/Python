{
 "cells": [
  {
   "cell_type": "code",
   "execution_count": 184,
   "metadata": {
    "ExecuteTime": {
     "end_time": "2017-06-13T15:02:12.077720",
     "start_time": "2017-06-13T15:02:11.506461"
    },
    "collapsed": false,
    "scrolled": true
   },
   "outputs": [
    {
     "name": "stdout",
     "output_type": "stream",
     "text": [
      "The autoreload extension is already loaded. To reload it, use:\n",
      "  %reload_ext autoreload\n"
     ]
    }
   ],
   "source": [
    "%load_ext autoreload\n",
    "%autoreload 2"
   ]
  },
  {
   "cell_type": "markdown",
   "metadata": {
    "ExecuteTime": {
     "end_time": "2017-06-11T22:44:00.825133",
     "start_time": "2017-06-11T22:44:00.821536"
    }
   },
   "source": [
    "# Bank Marketing (Neural networks)"
   ]
  },
  {
   "cell_type": "markdown",
   "metadata": {},
   "source": [
    "## Carga de datos"
   ]
  },
  {
   "cell_type": "markdown",
   "metadata": {},
   "source": [
    "Locación de archivos\n",
    "\n"
   ]
  },
  {
   "cell_type": "code",
   "execution_count": 185,
   "metadata": {
    "ExecuteTime": {
     "end_time": "2017-06-13T15:02:12.298452",
     "start_time": "2017-06-13T15:02:12.269195"
    },
    "collapsed": true
   },
   "outputs": [],
   "source": [
    "import os \n",
    "directory = 'Bank Marketing - Neural Networks'\n",
    "filefull = 'datos_neural.xlsx'\n",
    "filepath = os.path.join(directory, filefull)"
   ]
  },
  {
   "cell_type": "markdown",
   "metadata": {},
   "source": [
    "Exploración de filas"
   ]
  },
  {
   "cell_type": "code",
   "execution_count": 186,
   "metadata": {
    "ExecuteTime": {
     "end_time": "2017-06-13T15:02:15.399086",
     "start_time": "2017-06-13T15:02:12.676555"
    },
    "collapsed": false
   },
   "outputs": [
    {
     "name": "stdout",
     "output_type": "stream",
     "text": [
      "Sheet: datos\n",
      "Row 0:  age,job:admin.,job:blue-collar,job:technician,job:services,job:management,job:retired,job:self-employed,job:entrepreneur,job:unemployed,job:housemaid,job:student,job:unknown,marital:married,marital:single,marital:divorced,marital:unknown,education:university.degree,education:high.school,education:basic.9y,education:professional.course,education:basic.4y,education:basic.6y,education:unknown,default:no,default:unknown,housing:yes,housing:no,housing:unknown,loan:no,loan:yes,loan:unknown,contact:cellular,contact:telephone,month:may,month:jul,month:aug,month:jun,month:nov,month:apr,month:oct,month:sep,month:mar,day_of_week:thu,day_of_week:mon,day_of_week:tue,day_of_week:wed,day_of_week:fri,campaign,pdays,previous,poutcome:nonexistent,poutcome:failure,poutcome:success,emp.var.rate,cons.price.idx,cons.conf.idx,euribor3m,nr.employed,Adquirio el producto?\n",
      "Row 1:  30.0,0.0,1.0,0.0,0.0,0.0,0.0,0.0,0.0,0.0,0.0,0.0,0.0,1.0,0.0,0.0,0.0,0.0,0.0,1.0,0.0,0.0,0.0,0.0,1.0,0.0,1.0,0.0,0.0,1.0,0.0,0.0,1.0,0.0,1.0,0.0,0.0,0.0,0.0,0.0,0.0,0.0,0.0,0.0,0.0,0.0,0.0,1.0,2.0,999.0,0.0,1.0,0.0,0.0,-1.8,92.893,-46.2,1.313,5099.1,0.0\n",
      "Row 2:  39.0,0.0,0.0,0.0,1.0,0.0,0.0,0.0,0.0,0.0,0.0,0.0,0.0,0.0,1.0,0.0,0.0,0.0,1.0,0.0,0.0,0.0,0.0,0.0,1.0,0.0,0.0,1.0,0.0,1.0,0.0,0.0,0.0,1.0,1.0,0.0,0.0,0.0,0.0,0.0,0.0,0.0,0.0,0.0,0.0,0.0,0.0,1.0,4.0,999.0,0.0,1.0,0.0,0.0,1.1,93.994,-36.4,4.855,5191.0,0.0\n",
      "Row 3:  25.0,0.0,0.0,0.0,1.0,0.0,0.0,0.0,0.0,0.0,0.0,0.0,0.0,1.0,0.0,0.0,0.0,0.0,1.0,0.0,0.0,0.0,0.0,0.0,1.0,0.0,1.0,0.0,0.0,1.0,0.0,0.0,0.0,1.0,0.0,0.0,0.0,1.0,0.0,0.0,0.0,0.0,0.0,0.0,0.0,0.0,1.0,0.0,1.0,999.0,0.0,1.0,0.0,0.0,1.4,94.465,-41.8,4.962,5228.1,0.0\n",
      "\n",
      "\n"
     ]
    }
   ],
   "source": [
    "from utils.read import explore_excel\n",
    "explore_excel(filepath, lines=4)"
   ]
  },
  {
   "cell_type": "markdown",
   "metadata": {},
   "source": [
    "Carga de datos:"
   ]
  },
  {
   "cell_type": "code",
   "execution_count": 187,
   "metadata": {
    "ExecuteTime": {
     "end_time": "2017-06-13T15:02:18.311735",
     "start_time": "2017-06-13T15:02:15.400741"
    },
    "collapsed": false
   },
   "outputs": [
    {
     "data": {
      "text/plain": [
       "age                                int64\n",
       "job:admin.                         int64\n",
       "job:blue-collar                    int64\n",
       "job:technician                     int64\n",
       "job:services                       int64\n",
       "job:management                     int64\n",
       "job:retired                        int64\n",
       "job:self-employed                  int64\n",
       "job:entrepreneur                   int64\n",
       "job:unemployed                     int64\n",
       "job:housemaid                      int64\n",
       "job:student                        int64\n",
       "job:unknown                        int64\n",
       "marital:married                    int64\n",
       "marital:single                     int64\n",
       "marital:divorced                   int64\n",
       "marital:unknown                    int64\n",
       "education:university.degree        int64\n",
       "education:high.school              int64\n",
       "education:basic.9y                 int64\n",
       "education:professional.course      int64\n",
       "education:basic.4y                 int64\n",
       "education:basic.6y                 int64\n",
       "education:unknown                  int64\n",
       "default:no                         int64\n",
       "default:unknown                    int64\n",
       "housing:yes                        int64\n",
       "housing:no                         int64\n",
       "housing:unknown                    int64\n",
       "loan:no                            int64\n",
       "loan:yes                           int64\n",
       "loan:unknown                       int64\n",
       "contact:cellular                   int64\n",
       "contact:telephone                  int64\n",
       "month:may                          int64\n",
       "month:jul                          int64\n",
       "month:aug                          int64\n",
       "month:jun                          int64\n",
       "month:nov                          int64\n",
       "month:apr                          int64\n",
       "month:oct                          int64\n",
       "month:sep                          int64\n",
       "month:mar                          int64\n",
       "day_of_week:thu                    int64\n",
       "day_of_week:mon                    int64\n",
       "day_of_week:tue                    int64\n",
       "day_of_week:wed                    int64\n",
       "day_of_week:fri                    int64\n",
       "campaign                           int64\n",
       "pdays                              int64\n",
       "previous                           int64\n",
       "poutcome:nonexistent               int64\n",
       "poutcome:failure                   int64\n",
       "poutcome:success                   int64\n",
       "emp.var.rate                     float64\n",
       "cons.price.idx                   float64\n",
       "cons.conf.idx                    float64\n",
       "euribor3m                        float64\n",
       "nr.employed                      float64\n",
       "Adquirio el producto?              int64\n",
       "dtype: object"
      ]
     },
     "execution_count": 187,
     "metadata": {},
     "output_type": "execute_result"
    }
   ],
   "source": [
    "import pandas as pd\n",
    "data = pd.read_excel(filepath)\n",
    "data.dtypes"
   ]
  },
  {
   "cell_type": "markdown",
   "metadata": {},
   "source": [
    "## Normalizacion"
   ]
  },
  {
   "cell_type": "markdown",
   "metadata": {},
   "source": [
    "Variables de entrada y variable objetivo:"
   ]
  },
  {
   "cell_type": "code",
   "execution_count": 188,
   "metadata": {
    "ExecuteTime": {
     "end_time": "2017-06-13T15:02:18.358472",
     "start_time": "2017-06-13T15:02:18.314198"
    },
    "collapsed": false
   },
   "outputs": [],
   "source": [
    "import numpy as np\n",
    "X = np.array(data[list(set(data.columns)-set(['Adquirio el producto?']))].values, dtype='float64')\n",
    "y = np.array(data['Adquirio el producto?'].values, dtype='float64')"
   ]
  },
  {
   "cell_type": "code",
   "execution_count": 189,
   "metadata": {
    "ExecuteTime": {
     "end_time": "2017-06-13T15:02:18.414216",
     "start_time": "2017-06-13T15:02:18.360684"
    },
    "collapsed": false
   },
   "outputs": [
    {
     "data": {
      "text/plain": [
       "StandardScaler(copy=True, with_mean=True, with_std=True)"
      ]
     },
     "execution_count": 189,
     "metadata": {},
     "output_type": "execute_result"
    }
   ],
   "source": [
    "from sklearn.preprocessing import StandardScaler\n",
    "scaler = StandardScaler()\n",
    "scaler.fit(X)"
   ]
  },
  {
   "cell_type": "code",
   "execution_count": 190,
   "metadata": {
    "ExecuteTime": {
     "end_time": "2017-06-13T15:02:18.444397",
     "start_time": "2017-06-13T15:02:18.417013"
    },
    "collapsed": false
   },
   "outputs": [],
   "source": [
    "Xscaled = scaler.transform(X)"
   ]
  },
  {
   "cell_type": "markdown",
   "metadata": {},
   "source": [
    "## Oversampling"
   ]
  },
  {
   "cell_type": "code",
   "execution_count": 196,
   "metadata": {
    "ExecuteTime": {
     "end_time": "2017-06-13T15:03:02.608846",
     "start_time": "2017-06-13T15:03:02.554739"
    },
    "collapsed": false
   },
   "outputs": [],
   "source": [
    "from utils.sampling import oversampling\n",
    "Xext, yext = oversampling(Xscaled, y)"
   ]
  },
  {
   "cell_type": "markdown",
   "metadata": {
    "ExecuteTime": {
     "end_time": "2017-06-11T22:40:31.699377",
     "start_time": "2017-06-11T22:40:31.695056"
    }
   },
   "source": [
    "## Datos de entrenamiento y prueba"
   ]
  },
  {
   "cell_type": "code",
   "execution_count": 197,
   "metadata": {
    "ExecuteTime": {
     "end_time": "2017-06-13T15:03:08.684374",
     "start_time": "2017-06-13T15:03:08.667174"
    },
    "collapsed": true
   },
   "outputs": [],
   "source": [
    "from sklearn.model_selection import train_test_split\n",
    "Xtrain, Xtest, ytrain, ytest = train_test_split(Xext, yext, test_size=0.4)"
   ]
  },
  {
   "cell_type": "markdown",
   "metadata": {},
   "source": [
    "# Aprendizaje con red neuronal (MLP)"
   ]
  },
  {
   "cell_type": "markdown",
   "metadata": {},
   "source": [
    "Construcción de la red neuronal:"
   ]
  },
  {
   "cell_type": "code",
   "execution_count": 198,
   "metadata": {
    "ExecuteTime": {
     "end_time": "2017-06-13T15:03:13.150624",
     "start_time": "2017-06-13T15:03:13.131951"
    },
    "collapsed": true
   },
   "outputs": [],
   "source": [
    "from sklearn.neural_network import MLPClassifier\n",
    "clf = MLPClassifier(solver='lbfgs', activation='logistic', hidden_layer_sizes=(4, 4, 4))"
   ]
  },
  {
   "cell_type": "markdown",
   "metadata": {},
   "source": [
    "Entrenamiento:"
   ]
  },
  {
   "cell_type": "code",
   "execution_count": 199,
   "metadata": {
    "ExecuteTime": {
     "end_time": "2017-06-13T15:03:21.575811",
     "start_time": "2017-06-13T15:03:20.186102"
    },
    "collapsed": false
   },
   "outputs": [
    {
     "data": {
      "text/plain": [
       "MLPClassifier(activation='logistic', alpha=0.0001, batch_size='auto',\n",
       "       beta_1=0.9, beta_2=0.999, early_stopping=False, epsilon=1e-08,\n",
       "       hidden_layer_sizes=(4, 4, 4), learning_rate='constant',\n",
       "       learning_rate_init=0.001, max_iter=200, momentum=0.9,\n",
       "       nesterovs_momentum=True, power_t=0.5, random_state=None,\n",
       "       shuffle=True, solver='lbfgs', tol=0.0001, validation_fraction=0.1,\n",
       "       verbose=False, warm_start=False)"
      ]
     },
     "execution_count": 199,
     "metadata": {},
     "output_type": "execute_result"
    }
   ],
   "source": [
    "clf.fit(Xtrain, ytrain)"
   ]
  },
  {
   "cell_type": "markdown",
   "metadata": {},
   "source": [
    "Score sobre datos de entrenamiento:"
   ]
  },
  {
   "cell_type": "code",
   "execution_count": 182,
   "metadata": {
    "ExecuteTime": {
     "end_time": "2017-06-12T05:43:14.372926",
     "start_time": "2017-06-12T05:43:14.307472"
    },
    "collapsed": false
   },
   "outputs": [
    {
     "data": {
      "text/plain": [
       "0.80930656934306566"
      ]
     },
     "execution_count": 182,
     "metadata": {},
     "output_type": "execute_result"
    }
   ],
   "source": [
    "clf.score(Xtrainover, ytrainover)"
   ]
  },
  {
   "cell_type": "markdown",
   "metadata": {},
   "source": [
    "Score sobre datos de prueba:"
   ]
  },
  {
   "cell_type": "code",
   "execution_count": 200,
   "metadata": {
    "ExecuteTime": {
     "end_time": "2017-06-13T15:03:43.359050",
     "start_time": "2017-06-13T15:03:43.334697"
    },
    "collapsed": false
   },
   "outputs": [
    {
     "data": {
      "text/plain": [
       "0.77103918228279389"
      ]
     },
     "execution_count": 200,
     "metadata": {},
     "output_type": "execute_result"
    }
   ],
   "source": [
    "clf.score(Xtest, ytest)"
   ]
  },
  {
   "cell_type": "markdown",
   "metadata": {},
   "source": [
    "Calculo de TPR y FPR:"
   ]
  },
  {
   "cell_type": "code",
   "execution_count": 202,
   "metadata": {
    "ExecuteTime": {
     "end_time": "2017-06-13T15:04:07.573467",
     "start_time": "2017-06-13T15:04:07.552299"
    },
    "collapsed": false
   },
   "outputs": [],
   "source": [
    "ytestpred = clf.predict(Xtest)"
   ]
  },
  {
   "cell_type": "code",
   "execution_count": 209,
   "metadata": {
    "ExecuteTime": {
     "end_time": "2017-06-13T15:09:55.760682",
     "start_time": "2017-06-13T15:09:55.743077"
    },
    "collapsed": false
   },
   "outputs": [
    {
     "name": "stdout",
     "output_type": "stream",
     "text": [
      "TPR: 69.87%\n",
      "FPR: 15.76%\n"
     ]
    }
   ],
   "source": [
    "from sklearn.metrics import confusion_matrix\n",
    "cm = confusion_matrix(ytest, ytestpred)\n",
    "print 'TPR: {:.2%}'.format(1.0 * cm[1][1] / (cm[1][0] + cm[1][1]))\n",
    "print 'FPR: {:.2%}'.format(1.0 * cm[0][1] / (cm[0][0] + cm[0][1]))"
   ]
  },
  {
   "cell_type": "markdown",
   "metadata": {},
   "source": [
    "Curva ROC:"
   ]
  },
  {
   "cell_type": "code",
   "execution_count": 213,
   "metadata": {
    "ExecuteTime": {
     "end_time": "2017-06-13T15:17:16.718914",
     "start_time": "2017-06-13T15:17:16.675932"
    },
    "collapsed": true
   },
   "outputs": [],
   "source": [
    "ytestprob = clf.predict_proba(Xtest)\n",
    "ytestprob1 = [yy[1] for yy in ytestprob]"
   ]
  },
  {
   "cell_type": "code",
   "execution_count": 214,
   "metadata": {
    "ExecuteTime": {
     "end_time": "2017-06-13T15:17:17.226563",
     "start_time": "2017-06-13T15:17:17.208426"
    },
    "collapsed": false
   },
   "outputs": [],
   "source": [
    "from sklearn import metrics\n",
    "fpr, tpr, thresholds = metrics.roc_curve(ytest, ytestprob1, pos_label=1)"
   ]
  },
  {
   "cell_type": "code",
   "execution_count": 224,
   "metadata": {
    "ExecuteTime": {
     "end_time": "2017-06-13T15:21:55.280905",
     "start_time": "2017-06-13T15:21:55.104981"
    },
    "collapsed": false
   },
   "outputs": [
    {
     "data": {
      "image/png": "[encoded data removed]",
      "text/plain": [
       "<matplotlib.figure.Figure at 0x7fc62d76a610>"
      ]
     },
     "metadata": {},
     "output_type": "display_data"
    }
   ],
   "source": [
    "import matplotlib.pyplot as plt\n",
    "plt.figure(figsize=(8, 4))\n",
    "plt.plot(fpr, tpr)\n",
    "plt.plot([0, 1], [0, 1], 'k--')\n",
    "plt.xlim([0.0, 1.0])\n",
    "plt.ylim([0.0, 1.05])\n",
    "plt.xlabel('False Positive Rate')\n",
    "plt.ylabel('True Positive Rate')\n",
    "plt.title('Curva ROC')\n",
    "plt.show()"
   ]
  },
  {
   "cell_type": "code",
   "execution_count": null,
   "metadata": {
    "collapsed": true
   },
   "outputs": [],
   "source": []
  }
 ],
 "metadata": {
  "kernelspec": {
   "display_name": "Python 3",
   "language": "python",
   "name": "python3"
  },
  "language_info": {
   "codemirror_mode": {
    "name": "ipython",
    "version": 3
   },
   "file_extension": ".py",
   "mimetype": "text/x-python",
   "name": "python",
   "nbconvert_exporter": "python",
   "pygments_lexer": "ipython3",
   "version": "3.6.0"
  },
  "toc": {
   "nav_menu": {
    "height": "120px",
    "width": "252px"
   },
   "navigate_menu": true,
   "number_sections": true,
   "sideBar": true,
   "threshold": 4,
   "toc_cell": false,
   "toc_section_display": "block",
   "toc_window_display": true
  }
 },
 "nbformat": 4,
 "nbformat_minor": 2
}

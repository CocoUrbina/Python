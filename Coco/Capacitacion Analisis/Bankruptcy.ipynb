{
 "cells": [
  {
   "cell_type": "markdown",
   "metadata": {},
   "source": [
    "Datos extraidos de http://archive.ics.uci.edu/ml/datasets/Polish+companies+bankruptcy+data#"
   ]
  },
  {
   "cell_type": "code",
   "execution_count": 1,
   "metadata": {
    "collapsed": true
   },
   "outputs": [],
   "source": [
    "import os\n",
    "directory = '../Bankruptcy'\n",
    "filename = '1year.arff'\n",
    "filepath = os.path.join(directory, filename)"
   ]
  },
  {
   "cell_type": "code",
   "execution_count": 2,
   "metadata": {
    "collapsed": false
   },
   "outputs": [
    {
     "name": "stdout",
     "output_type": "stream",
     "text": [
      "@relation '1year-weka.filters.unsupervised.instance.SubsetByExpression-Enot ismissing(ATT20)'\n",
      "\n",
      "\n",
      "\n",
      "@attribute Attr1 numeric\n",
      "\n",
      "@attribute Attr2 numeric\n",
      "\n",
      "@attribute Attr3 numeric\n",
      "\n",
      "@attribute Attr4 numeric\n",
      "\n",
      "@attribute Attr5 numeric\n",
      "\n",
      "@attribute Attr6 numeric\n",
      "\n",
      "@attribute Attr7 numeric\n",
      "\n",
      "@attribute Attr8 numeric\n",
      "\n",
      "@attribute Attr9 numeric\n",
      "\n",
      "@attribute Attr10 numeric\n",
      "\n",
      "@attribute Attr11 numeric\n",
      "\n",
      "@attribute Attr12 numeric\n",
      "\n",
      "@attribute Attr13 numeric\n",
      "\n",
      "@attribute Attr14 numeric\n",
      "\n",
      "@attribute Attr15 numeric\n",
      "\n",
      "@attribute Attr16 numeric\n",
      "\n",
      "@attribute Attr17 numeric\n",
      "\n",
      "@attribute Attr18 numeric\n",
      "\n",
      "@attribute Attr19 numeric\n",
      "\n",
      "@attribute Attr20 numeric\n",
      "\n",
      "@attribute Attr21 numeric\n",
      "\n",
      "@attribute Attr22 numeric\n",
      "\n",
      "@attribute Attr23 numeric\n",
      "\n",
      "@attribute Attr24 numeric\n",
      "\n",
      "@attribute Attr25 numeric\n",
      "\n",
      "@attribute Attr26 numeric\n",
      "\n",
      "@attribute Attr27 numeric\n",
      "\n",
      "@attribute Attr28 numeric\n",
      "\n",
      "@attribute Attr29 numeric\n",
      "\n",
      "@attribute Attr30 numeric\n",
      "\n",
      "@attribute Attr31 numeric\n",
      "\n",
      "@attribute Attr32 numeric\n",
      "\n",
      "@attribute Attr33 numeric\n",
      "\n",
      "@attribute Attr34 numeric\n",
      "\n",
      "@attribute Attr35 numeric\n",
      "\n",
      "@attribute Attr36 numeric\n",
      "\n",
      "@attribute Attr37 numeric\n",
      "\n",
      "@attribute Attr38 numeric\n",
      "\n",
      "@attribute Attr39 numeric\n",
      "\n",
      "@attribute Attr40 numeric\n",
      "\n",
      "@attribute Attr41 numeric\n",
      "\n",
      "@attribute Attr42 numeric\n",
      "\n",
      "@attribute Attr43 numeric\n",
      "\n",
      "@attribute Attr44 numeric\n",
      "\n",
      "@attribute Attr45 numeric\n",
      "\n",
      "@attribute Attr46 numeric\n",
      "\n",
      "@attribute Attr47 numeric\n",
      "\n",
      "@attribute Attr48 numeric\n",
      "\n",
      "@attribute Attr49 numeric\n",
      "\n",
      "@attribute Attr50 numeric\n",
      "\n",
      "@attribute Attr51 numeric\n",
      "\n",
      "@attribute Attr52 numeric\n",
      "\n",
      "@attribute Attr53 numeric\n",
      "\n",
      "@attribute Attr54 numeric\n",
      "\n",
      "@attribute Attr55 numeric\n",
      "\n",
      "@attribute Attr56 numeric\n",
      "\n",
      "@attribute Attr57 numeric\n",
      "\n",
      "@attribute Attr58 numeric\n",
      "\n",
      "@attribute Attr59 numeric\n",
      "\n",
      "@attribute Attr60 numeric\n",
      "\n",
      "@attribute Attr61 numeric\n",
      "\n",
      "@attribute Attr62 numeric\n",
      "\n",
      "@attribute Attr63 numeric\n",
      "\n",
      "@attribute Attr64 numeric\n",
      "\n",
      "@attribute class {0,1}\n",
      "\n",
      "\n",
      "\n",
      "@data\n",
      "\n",
      "0.20055,0.37951,0.39641,2.0472,32.351,0.38825,0.24976,1.3305,1.1389,0.50494,0.24976,0.6598,0.1666,0.24976,497.42,0.73378,2.6349,0.24976,0.14942,43.37,1.2479,0.21402,0.11998,0.47706,0.50494,0.60411,1.4582,1.7615,5.9443,0.11788,0.14942,94.14,3.8772,0.56393,0.21402,1.741,593.27,0.50591,0.12804,0.66295,0.051402,0.12804,114.42,71.05,1.0097,1.5225,49.394,0.1853,0.11085,2.042,0.37854,0.25792,2.2437,2.248,348690,0.12196,0.39718,0.87804,0.001924,8.416,5.1372,82.658,4.4158,7.4277,0\n",
      "\n"
     ]
    }
   ],
   "source": [
    "from utils.read import explore_csv\n",
    "\n",
    "explore_csv(filepath, lines = 70)"
   ]
  },
  {
   "cell_type": "code",
   "execution_count": 3,
   "metadata": {
    "collapsed": false
   },
   "outputs": [
    {
     "data": {
      "text/plain": [
       "0     float64\n",
       "1     float64\n",
       "2     float64\n",
       "3     float64\n",
       "4     float64\n",
       "5     float64\n",
       "6     float64\n",
       "7     float64\n",
       "8     float64\n",
       "9     float64\n",
       "10    float64\n",
       "11    float64\n",
       "12    float64\n",
       "13    float64\n",
       "14    float64\n",
       "15    float64\n",
       "16    float64\n",
       "17    float64\n",
       "18    float64\n",
       "19    float64\n",
       "20    float64\n",
       "21    float64\n",
       "22    float64\n",
       "23    float64\n",
       "24    float64\n",
       "25    float64\n",
       "26    float64\n",
       "27    float64\n",
       "28    float64\n",
       "29    float64\n",
       "       ...   \n",
       "35    float64\n",
       "36    float64\n",
       "37    float64\n",
       "38    float64\n",
       "39    float64\n",
       "40    float64\n",
       "41    float64\n",
       "42    float64\n",
       "43    float64\n",
       "44    float64\n",
       "45    float64\n",
       "46    float64\n",
       "47    float64\n",
       "48    float64\n",
       "49    float64\n",
       "50    float64\n",
       "51    float64\n",
       "52    float64\n",
       "53    float64\n",
       "54    float64\n",
       "55    float64\n",
       "56    float64\n",
       "57    float64\n",
       "58    float64\n",
       "59    float64\n",
       "60    float64\n",
       "61    float64\n",
       "62    float64\n",
       "63    float64\n",
       "64      int64\n",
       "dtype: object"
      ]
     },
     "execution_count": 3,
     "metadata": {},
     "output_type": "execute_result"
    }
   ],
   "source": [
    "import pandas as pd\n",
    "data = pd.read_csv(filepath,skiprows= 69, header= None, na_values= '?' )\n",
    "data.dtypes"
   ]
  },
  {
   "cell_type": "code",
   "execution_count": 4,
   "metadata": {
    "collapsed": false
   },
   "outputs": [
    {
     "data": {
      "text/html": [
       "<div>\n",
       "<table border=\"1\" class=\"dataframe\">\n",
       "  <thead>\n",
       "    <tr style=\"text-align: right;\">\n",
       "      <th></th>\n",
       "      <th>0</th>\n",
       "      <th>1</th>\n",
       "      <th>2</th>\n",
       "      <th>3</th>\n",
       "      <th>4</th>\n",
       "      <th>5</th>\n",
       "      <th>6</th>\n",
       "      <th>7</th>\n",
       "      <th>8</th>\n",
       "      <th>9</th>\n",
       "      <th>...</th>\n",
       "      <th>55</th>\n",
       "      <th>56</th>\n",
       "      <th>57</th>\n",
       "      <th>58</th>\n",
       "      <th>59</th>\n",
       "      <th>60</th>\n",
       "      <th>61</th>\n",
       "      <th>62</th>\n",
       "      <th>63</th>\n",
       "      <th>64</th>\n",
       "    </tr>\n",
       "  </thead>\n",
       "  <tbody>\n",
       "    <tr>\n",
       "      <th>0</th>\n",
       "      <td>0.200550</td>\n",
       "      <td>0.37951</td>\n",
       "      <td>0.39641</td>\n",
       "      <td>2.0472</td>\n",
       "      <td>32.3510</td>\n",
       "      <td>0.38825</td>\n",
       "      <td>0.249760</td>\n",
       "      <td>1.33050</td>\n",
       "      <td>1.1389</td>\n",
       "      <td>0.50494</td>\n",
       "      <td>...</td>\n",
       "      <td>0.121960</td>\n",
       "      <td>0.39718</td>\n",
       "      <td>0.87804</td>\n",
       "      <td>0.001924</td>\n",
       "      <td>8.4160</td>\n",
       "      <td>5.1372</td>\n",
       "      <td>82.658</td>\n",
       "      <td>4.4158</td>\n",
       "      <td>7.4277</td>\n",
       "      <td>0</td>\n",
       "    </tr>\n",
       "    <tr>\n",
       "      <th>1</th>\n",
       "      <td>0.209120</td>\n",
       "      <td>0.49988</td>\n",
       "      <td>0.47225</td>\n",
       "      <td>1.9447</td>\n",
       "      <td>14.7860</td>\n",
       "      <td>0.00000</td>\n",
       "      <td>0.258340</td>\n",
       "      <td>0.99601</td>\n",
       "      <td>1.6996</td>\n",
       "      <td>0.49788</td>\n",
       "      <td>...</td>\n",
       "      <td>0.121300</td>\n",
       "      <td>0.42002</td>\n",
       "      <td>0.85300</td>\n",
       "      <td>0.000000</td>\n",
       "      <td>4.1486</td>\n",
       "      <td>3.2732</td>\n",
       "      <td>107.350</td>\n",
       "      <td>3.4000</td>\n",
       "      <td>60.9870</td>\n",
       "      <td>0</td>\n",
       "    </tr>\n",
       "    <tr>\n",
       "      <th>2</th>\n",
       "      <td>0.248660</td>\n",
       "      <td>0.69592</td>\n",
       "      <td>0.26713</td>\n",
       "      <td>1.5548</td>\n",
       "      <td>-1.1523</td>\n",
       "      <td>0.00000</td>\n",
       "      <td>0.309060</td>\n",
       "      <td>0.43695</td>\n",
       "      <td>1.3090</td>\n",
       "      <td>0.30408</td>\n",
       "      <td>...</td>\n",
       "      <td>0.241140</td>\n",
       "      <td>0.81774</td>\n",
       "      <td>0.76599</td>\n",
       "      <td>0.694840</td>\n",
       "      <td>4.9909</td>\n",
       "      <td>3.9510</td>\n",
       "      <td>134.270</td>\n",
       "      <td>2.7185</td>\n",
       "      <td>5.2078</td>\n",
       "      <td>0</td>\n",
       "    </tr>\n",
       "    <tr>\n",
       "      <th>3</th>\n",
       "      <td>0.081483</td>\n",
       "      <td>0.30734</td>\n",
       "      <td>0.45879</td>\n",
       "      <td>2.4928</td>\n",
       "      <td>51.9520</td>\n",
       "      <td>0.14988</td>\n",
       "      <td>0.092704</td>\n",
       "      <td>1.86610</td>\n",
       "      <td>1.0571</td>\n",
       "      <td>0.57353</td>\n",
       "      <td>...</td>\n",
       "      <td>0.054015</td>\n",
       "      <td>0.14207</td>\n",
       "      <td>0.94598</td>\n",
       "      <td>0.000000</td>\n",
       "      <td>4.5746</td>\n",
       "      <td>3.6147</td>\n",
       "      <td>86.435</td>\n",
       "      <td>4.2228</td>\n",
       "      <td>5.5497</td>\n",
       "      <td>0</td>\n",
       "    </tr>\n",
       "    <tr>\n",
       "      <th>4</th>\n",
       "      <td>0.187320</td>\n",
       "      <td>0.61323</td>\n",
       "      <td>0.22960</td>\n",
       "      <td>1.4063</td>\n",
       "      <td>-7.3128</td>\n",
       "      <td>0.18732</td>\n",
       "      <td>0.187320</td>\n",
       "      <td>0.63070</td>\n",
       "      <td>1.1559</td>\n",
       "      <td>0.38677</td>\n",
       "      <td>...</td>\n",
       "      <td>0.134850</td>\n",
       "      <td>0.48431</td>\n",
       "      <td>0.86515</td>\n",
       "      <td>0.124440</td>\n",
       "      <td>6.3985</td>\n",
       "      <td>4.3158</td>\n",
       "      <td>127.210</td>\n",
       "      <td>2.8692</td>\n",
       "      <td>7.8980</td>\n",
       "      <td>0</td>\n",
       "    </tr>\n",
       "  </tbody>\n",
       "</table>\n",
       "<p>5 rows × 65 columns</p>\n",
       "</div>"
      ],
      "text/plain": [
       "         0        1        2       3        4        5         6        7   \\\n",
       "0  0.200550  0.37951  0.39641  2.0472  32.3510  0.38825  0.249760  1.33050   \n",
       "1  0.209120  0.49988  0.47225  1.9447  14.7860  0.00000  0.258340  0.99601   \n",
       "2  0.248660  0.69592  0.26713  1.5548  -1.1523  0.00000  0.309060  0.43695   \n",
       "3  0.081483  0.30734  0.45879  2.4928  51.9520  0.14988  0.092704  1.86610   \n",
       "4  0.187320  0.61323  0.22960  1.4063  -7.3128  0.18732  0.187320  0.63070   \n",
       "\n",
       "       8        9  ...        55       56       57        58      59      60  \\\n",
       "0  1.1389  0.50494 ...  0.121960  0.39718  0.87804  0.001924  8.4160  5.1372   \n",
       "1  1.6996  0.49788 ...  0.121300  0.42002  0.85300  0.000000  4.1486  3.2732   \n",
       "2  1.3090  0.30408 ...  0.241140  0.81774  0.76599  0.694840  4.9909  3.9510   \n",
       "3  1.0571  0.57353 ...  0.054015  0.14207  0.94598  0.000000  4.5746  3.6147   \n",
       "4  1.1559  0.38677 ...  0.134850  0.48431  0.86515  0.124440  6.3985  4.3158   \n",
       "\n",
       "        61      62       63  64  \n",
       "0   82.658  4.4158   7.4277   0  \n",
       "1  107.350  3.4000  60.9870   0  \n",
       "2  134.270  2.7185   5.2078   0  \n",
       "3   86.435  4.2228   5.5497   0  \n",
       "4  127.210  2.8692   7.8980   0  \n",
       "\n",
       "[5 rows x 65 columns]"
      ]
     },
     "execution_count": 4,
     "metadata": {},
     "output_type": "execute_result"
    }
   ],
   "source": [
    "data.head()"
   ]
  },
  {
   "cell_type": "code",
   "execution_count": 5,
   "metadata": {
    "collapsed": false
   },
   "outputs": [
    {
     "name": "stdout",
     "output_type": "stream",
     "text": [
      "7027\n",
      "3194\n"
     ]
    }
   ],
   "source": [
    "print(len(data))\n",
    "data2 = data.dropna()\n",
    "print(len(data2))\n",
    "y = data2.iloc[:, 64].values\n",
    "X = data2.iloc[:, :64].values\n"
   ]
  },
  {
   "cell_type": "code",
   "execution_count": 6,
   "metadata": {
    "collapsed": false
   },
   "outputs": [
    {
     "name": "stdout",
     "output_type": "stream",
     "text": [
      "0.939%\n"
     ]
    }
   ],
   "source": [
    "import numpy as np\n",
    "print(\"{:.3%}\".format(np.mean(y)))"
   ]
  },
  {
   "cell_type": "code",
   "execution_count": 7,
   "metadata": {
    "collapsed": false
   },
   "outputs": [],
   "source": [
    "from sklearn import preprocessing\n",
    "\n",
    "scaler = preprocessing.StandardScaler().fit(X)\n",
    "Xst = scaler.transform(X)"
   ]
  },
  {
   "cell_type": "code",
   "execution_count": 11,
   "metadata": {
    "collapsed": false
   },
   "outputs": [],
   "source": [
    "from utils.sampling import oversampling\n",
    "Xe, ye = oversampling(X, y)"
   ]
  },
  {
   "cell_type": "code",
   "execution_count": 15,
   "metadata": {
    "collapsed": false
   },
   "outputs": [],
   "source": [
    "from sklearn.model_selection import train_test_split\n",
    "Xtrain, Xtest, ytrain, ytest = train_test_split(X, y, test_size = 0.3)"
   ]
  },
  {
   "cell_type": "code",
   "execution_count": 17,
   "metadata": {
    "collapsed": false
   },
   "outputs": [
    {
     "name": "stdout",
     "output_type": "stream",
     "text": [
      "Train 98.56823%\n",
      "Test 98.54015%\n"
     ]
    }
   ],
   "source": [
    "from sklearn.neural_network import MLPClassifier\n",
    "clf10 = MLPClassifier(hidden_layer_sizes = (10, 10))\n",
    "clf10.fit(Xtrain, ytrain)\n",
    "print('Train {:.5%}'.format(clf10.score(Xtrain, ytrain)))\n",
    "print('Test {:.5%}'.format(clf10.score(Xtest, ytest)))"
   ]
  },
  {
   "cell_type": "code",
   "execution_count": null,
   "metadata": {
    "collapsed": true
   },
   "outputs": [],
   "source": []
  }
 ],
 "metadata": {
  "kernelspec": {
   "display_name": "Python 3",
   "language": "python",
   "name": "python3"
  },
  "language_info": {
   "codemirror_mode": {
    "name": "ipython",
    "version": 3
   },
   "file_extension": ".py",
   "mimetype": "text/x-python",
   "name": "python",
   "nbconvert_exporter": "python",
   "pygments_lexer": "ipython3",
   "version": "3.6.0"
  },
  "toc": {
   "nav_menu": {
    "height": "12px",
    "width": "252px"
   },
   "navigate_menu": true,
   "number_sections": true,
   "sideBar": true,
   "threshold": 4,
   "toc_cell": false,
   "toc_section_display": "block",
   "toc_window_display": true
  }
 },
 "nbformat": 4,
 "nbformat_minor": 2
}
